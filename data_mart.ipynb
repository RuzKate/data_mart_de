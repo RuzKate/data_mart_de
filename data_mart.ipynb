{
 "cells": [
  {
   "cell_type": "code",
   "execution_count": 4,
   "metadata": {},
   "outputs": [],
   "source": [
    "import psycopg2\n",
    "import os\n",
    "from dotenv import load_dotenv\n",
    "import time"
   ]
  },
  {
   "cell_type": "code",
   "execution_count": 5,
   "metadata": {},
   "outputs": [],
   "source": [
    "load_dotenv(\".env\")\n",
    "\n",
    "database_name = os.environ.get('DB_NAME')\n",
    "user_name = os.environ.get('DB_USER')\n",
    "password = os.environ.get('DB_PASSWORD')\n",
    "host = os.environ.get('DB_HOST')\n",
    "port = os.environ.get('DB_PORT')"
   ]
  },
  {
   "cell_type": "code",
   "execution_count": 6,
   "metadata": {},
   "outputs": [],
   "source": [
    "def connect_to_db(db_name, db_user, db_password, db_host, db_port):\n",
    "    \"\"\"Подключение к серверу PostgreSQL\n",
    "\n",
    "            :param db_name: название базы данных\n",
    "            :type db_name: str\n",
    "\n",
    "            :param db_user: имя пользователя для подключения к бд\n",
    "            :type db_user: str\n",
    "\n",
    "            :param db_password: пароль пользователя для подключения к бд\n",
    "            :type db_password: str\n",
    "\n",
    "            :param db_host: адрес сервера базы данных\n",
    "            :type db_host: str\n",
    "\n",
    "            :param db_port: порт для подключения\n",
    "            :type db_port: str\n",
    "            \n",
    "            :rtype: объект connection\n",
    "            :return: объект подключения\n",
    "        \"\"\"\n",
    "    try:\n",
    "        connection = psycopg2.connect(\n",
    "            dbname=db_name,\n",
    "            user=db_user,\n",
    "            password=db_password,\n",
    "            host=db_host,\n",
    "            port=db_port\n",
    "        )\n",
    "        return connection\n",
    "    except ConnectionError as error:\n",
    "        print(f'Unable to connect to the server: {error}')"
   ]
  },
  {
   "cell_type": "code",
   "execution_count": 7,
   "metadata": {},
   "outputs": [],
   "source": [
    "def data_mart_calculation_turnover():\n",
    "    connection = connect_to_db(database_name, user_name, password, host, port)\n",
    "    cursor = connection.cursor()\n",
    "\n",
    "    try:\n",
    "        for day in range(1, 32):\n",
    "            date = f'2018-01-{day:02}'\n",
    "            cursor.execute(f\"call dm.fill_account_turnover_f('{date}'::date)\")\n",
    "            \n",
    "            connection.commit()\n",
    "            time.sleep(1)\n",
    "        \n",
    "    except (Exception) as error:\n",
    "        print(f'Error executing for date {date}: {error}')\n",
    "    finally:\n",
    "            cursor.close()\n",
    "            connection.close()"
   ]
  },
  {
   "cell_type": "code",
   "execution_count": 8,
   "metadata": {},
   "outputs": [],
   "source": [
    "data_mart_calculation_turnover()"
   ]
  },
  {
   "cell_type": "code",
   "execution_count": 9,
   "metadata": {},
   "outputs": [],
   "source": [
    "def data_mart_calculation_f101():\n",
    "    connection = connect_to_db(database_name, user_name, password, host, port)\n",
    "    cursor = connection.cursor()\n",
    "\n",
    "    try:\n",
    "        date = f'2018-01-01'\n",
    "        cursor.execute(f\"call dm.fill_f101_round_f('{date}'::date)\")\n",
    "        connection.commit()\n",
    "    except (Exception) as error:\n",
    "        print(f'Error executing for date {date}: {error}')\n",
    "    finally:\n",
    "            cursor.close()\n",
    "            connection.close()"
   ]
  },
  {
   "cell_type": "code",
   "execution_count": 10,
   "metadata": {},
   "outputs": [],
   "source": [
    "data_mart_calculation_f101()"
   ]
  }
 ],
 "metadata": {
  "kernelspec": {
   "display_name": ".venv",
   "language": "python",
   "name": "python3"
  },
  "language_info": {
   "codemirror_mode": {
    "name": "ipython",
    "version": 3
   },
   "file_extension": ".py",
   "mimetype": "text/x-python",
   "name": "python",
   "nbconvert_exporter": "python",
   "pygments_lexer": "ipython3",
   "version": "3.11.1"
  }
 },
 "nbformat": 4,
 "nbformat_minor": 2
}
